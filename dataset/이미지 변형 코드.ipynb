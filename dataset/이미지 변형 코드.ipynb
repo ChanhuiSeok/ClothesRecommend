{
 "cells": [
  {
   "cell_type": "code",
   "execution_count": 1,
   "metadata": {},
   "outputs": [],
   "source": [
    "import tensorflow as tf  \n",
    "import numpy as np  \n",
    "import os\n",
    "import matplotlib.pyplot as plt\n",
    "\n",
    "from glob import glob\n",
    "from PIL import Image\n",
    "from tensorflow.keras.preprocessing.image import ImageDataGenerator\n",
    "\n",
    "%matplotlib inline"
   ]
  },
  {
   "cell_type": "code",
   "execution_count": 8,
   "metadata": {},
   "outputs": [
    {
     "data": {
      "text/plain": [
       "['.\\\\man\\\\20\\\\사각체형\\\\',\n",
       " '.\\\\man\\\\20\\\\작은역삼각체형\\\\',\n",
       " '.\\\\man\\\\20\\\\큰삼각체형\\\\',\n",
       " '.\\\\man\\\\30\\\\역삼각체형\\\\',\n",
       " '.\\\\man\\\\30\\\\작은사각체형\\\\',\n",
       " '.\\\\man\\\\30\\\\작은역삼각체형\\\\',\n",
       " '.\\\\man\\\\30\\\\큰사각체형\\\\',\n",
       " '.\\\\man\\\\40\\\\삼각체형\\\\',\n",
       " '.\\\\man\\\\40\\\\역삼각체형\\\\',\n",
       " '.\\\\man\\\\40\\\\작은사각체형\\\\',\n",
       " '.\\\\man\\\\40\\\\큰사각체형\\\\',\n",
       " '.\\\\man\\\\50\\\\사각체형\\\\',\n",
       " '.\\\\man\\\\50\\\\삼각체형\\\\',\n",
       " '.\\\\man\\\\50\\\\작은사각체형\\\\',\n",
       " '.\\\\man\\\\50\\\\큰사각체형\\\\',\n",
       " '.\\\\man\\\\60\\\\삼각체형\\\\',\n",
       " '.\\\\man\\\\60\\\\역삼각_긴엉덩이\\\\',\n",
       " '.\\\\man\\\\60\\\\역삼각_짧은엉덩이\\\\',\n",
       " '.\\\\man\\\\60\\\\작은사각체형\\\\',\n",
       " '.\\\\woman\\\\20\\\\사각체형\\\\',\n",
       " '.\\\\woman\\\\20\\\\역삼각체형\\\\',\n",
       " '.\\\\woman\\\\20\\\\작은역삼각형\\\\',\n",
       " '.\\\\woman\\\\20\\\\큰삼각체형\\\\',\n",
       " '.\\\\woman\\\\30\\\\삼각체형\\\\',\n",
       " '.\\\\woman\\\\30\\\\작은사각체형_긴자체\\\\',\n",
       " '.\\\\woman\\\\30\\\\작은사각체형_짧은지체\\\\',\n",
       " '.\\\\woman\\\\30\\\\큰사각체형\\\\',\n",
       " '.\\\\woman\\\\40\\\\역삼각체형\\\\',\n",
       " '.\\\\woman\\\\40\\\\작은역삼각체형\\\\',\n",
       " '.\\\\woman\\\\40\\\\큰삼각체형\\\\',\n",
       " '.\\\\woman\\\\50\\\\사각체형\\\\',\n",
       " '.\\\\woman\\\\50\\\\삼각체형\\\\',\n",
       " '.\\\\woman\\\\50\\\\작은역삼각체형\\\\',\n",
       " '.\\\\woman\\\\60\\\\사각체형\\\\',\n",
       " '.\\\\woman\\\\60\\\\삼각체형\\\\',\n",
       " '.\\\\woman\\\\60\\\\작은역삼각체형\\\\',\n",
       " '.\\\\woman\\\\60\\\\큰사각체형\\\\']"
      ]
     },
     "execution_count": 8,
     "metadata": {},
     "output_type": "execute_result"
    }
   ],
   "source": [
    "data_paths = glob('./*/*/*/')\n",
    "data_paths"
   ]
  },
  {
   "cell_type": "code",
   "execution_count": 9,
   "metadata": {},
   "outputs": [],
   "source": [
    "def get_tf_image(path):  # path -> tf 형태의 image 반환\n",
    "    gfile = tf.io.read_file(path)\n",
    "    image = tf.io.decode_image(gfile)\n",
    "    return image"
   ]
  },
  {
   "cell_type": "code",
   "execution_count": 10,
   "metadata": {},
   "outputs": [],
   "source": [
    "# 변형 옵션\n",
    "datagen = ImageDataGenerator(\n",
    "    rotation_range=20,\n",
    "    width_shift_range=0.2,\n",
    "    height_shift_range=0.2,\n",
    "    horizontal_flip=False,\n",
    "    zoom_range = 0.05,\n",
    "    rescale=1./255.\n",
    ")"
   ]
  },
  {
   "cell_type": "code",
   "execution_count": 11,
   "metadata": {},
   "outputs": [],
   "source": [
    "for path in data_paths:\n",
    "    for i in range(2, 1502):  # 각 클래스당 1500개의 변형 이미지 추가.\n",
    "        image = get_tf_image(path + '1.png')  # path -> tf 형태의 image 변환\n",
    "        inputs = image[tf.newaxis, ...]  # 이미지 변형을 위해서 차원 추가\n",
    "        result = next(iter(datagen.flow(inputs)))  # 이미지 변형\n",
    "        result = result[0, :, :, :]  # 이미지 저장을 위해서 차원 감소\n",
    "        tf.keras.preprocessing.image.save_img(path + str(i) + \".png\", result)"
   ]
  },
  {
   "cell_type": "code",
   "execution_count": null,
   "metadata": {},
   "outputs": [],
   "source": []
  }
 ],
 "metadata": {
  "kernelspec": {
   "display_name": "Python 3",
   "language": "python",
   "name": "python3"
  },
  "language_info": {
   "codemirror_mode": {
    "name": "ipython",
    "version": 3
   },
   "file_extension": ".py",
   "mimetype": "text/x-python",
   "name": "python",
   "nbconvert_exporter": "python",
   "pygments_lexer": "ipython3",
   "version": "3.7.6"
  }
 },
 "nbformat": 4,
 "nbformat_minor": 4
}
